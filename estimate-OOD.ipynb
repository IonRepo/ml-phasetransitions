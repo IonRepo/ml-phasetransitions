{
 "cells": [
  {
   "cell_type": "code",
   "id": "025909c1",
   "metadata": {},
   "source": [
    "import numpy      as np\n",
    "import seaborn    as sns\n",
    "import ML_library as MLL\n",
    "import torch\n",
    "import json\n",
    "\n",
    "# Checking if pytorch can run in GPU, else CPU\n",
    "device = torch.device('cuda' if torch.cuda.is_available() else 'cpu')\n",
    "\n",
    "sns.set_theme()"
   ],
   "outputs": [],
   "execution_count": null
  },
  {
   "metadata": {},
   "cell_type": "markdown",
   "source": "# Some specific validation examples",
   "id": "6d752cdbad36f77f"
  },
  {
   "metadata": {},
   "cell_type": "code",
   "outputs": [],
   "execution_count": null,
   "source": [
    "input_folder                = 'models'\n",
    "target_folder               = f'{input_folder}/Fv-OOD'\n",
    "model_name                  = f'{target_folder}/model.pt'\n",
    "dataset_parameters_name_std = f'{target_folder}/standardized_parameters.json'\n",
    "\n",
    "dropout = 0.4\n",
    "\n",
    "# Load the data from the JSON file\n",
    "with open(dataset_parameters_name_std, 'r') as json_file:\n",
    "    numpy_dict = json.load(json_file)\n",
    "\n",
    "# Convert torch tensors to numpy arrays\n",
    "dataset_parameters = {}\n",
    "for key, value in numpy_dict.items():\n",
    "    try:\n",
    "        dataset_parameters[key] = torch.tensor(value)\n",
    "    except:\n",
    "        dataset_parameters[key] = value\n",
    "\n",
    "# Load dataset\n",
    "reference_dataset = torch.load(f'{target_folder}/standardized_dataset.pt')"
   ],
   "id": "602b3afeaefa4a9"
  },
  {
   "metadata": {},
   "cell_type": "code",
   "outputs": [],
   "execution_count": null,
   "source": [
    "# Load Graph Neural Network model (making room for temperature as node attribute)\n",
    "model = MLL.GCNN(features_channels=4+1, pdropout=dropout)\n",
    "\n",
    "# Moving model to device\n",
    "model = model.to(device)\n",
    "\n",
    "# Load Graph Neural Network model\n",
    "model.load_state_dict(torch.load(model_name, map_location=torch.device(device)))\n",
    "model.eval()"
   ],
   "id": "78acfb0255517c27"
  },
  {
   "metadata": {},
   "cell_type": "code",
   "outputs": [],
   "execution_count": null,
   "source": [
    "# We read the POSCAR and compare it to the reference database based on the GNN model\n",
    "target_POSCAR = 'models/Fv-OOD'\n",
    "\n",
    "# We define the temperature we want compare at\n",
    "Ti = 500\n",
    "Tf = 1300\n",
    "dT = 50\n",
    "\n",
    "temperatures = np.arange(Ti, Tf+dT, dT)\n",
    "\n",
    "# Create dataset for predictions\n",
    "target_dataset, labels = MLL.create_predictions_dataset(target_POSCAR, path_to_material=True, path_to_polymorph=True)\n",
    "\n",
    "# Standardize properties\n",
    "target_dataset = MLL.standarize_dataset(target_dataset, dataset_parameters, transformation=dataset_parameters['transformation'])\n",
    "\n",
    "# Include temperatures\n",
    "target_dataset = MLL.include_temperatures(target_dataset, temperatures, dataset_parameters)"
   ],
   "id": "7d136d4a652341fd"
  },
  {
   "metadata": {},
   "cell_type": "code",
   "outputs": [],
   "execution_count": null,
   "source": [
    "# Iterate the same materials over different temperatures\n",
    "for target_material in target_dataset:\n",
    "    target_material = target_material.to(device)\n",
    "    \n",
    "    # Compute distance from graph to dataset\n",
    "    distance = MLL.estimate_out_of_distribution(reference_dataset, target_material, model)\n",
    "    print(distance)"
   ]
  },
  {
   "metadata": {},
   "cell_type": "code",
   "outputs": [],
   "execution_count": null,
   "source": "# POSCAR from dataset at temperatures inside and over dataset",
   "id": "c3e730ff34f19491"
  },
  {
   "metadata": {},
   "cell_type": "code",
   "outputs": [],
   "execution_count": null,
   "source": "# POSCAR from dataset with Te -> Rh substitution at temperatures inside and over dataset",
   "id": "ad1e945ed316ad28"
  }
 ],
 "metadata": {
  "kernelspec": {
   "display_name": "Python 3 (ipykernel)",
   "language": "python",
   "name": "python3"
  },
  "language_info": {
   "codemirror_mode": {
    "name": "ipython",
    "version": 3
   },
   "file_extension": ".py",
   "mimetype": "text/x-python",
   "name": "python",
   "nbconvert_exporter": "python",
   "pygments_lexer": "ipython3",
   "version": "3.12.3"
  }
 },
 "nbformat": 4,
 "nbformat_minor": 5
}
