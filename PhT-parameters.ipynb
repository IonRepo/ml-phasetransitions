{
 "cells": [
  {
   "cell_type": "code",
   "execution_count": 1,
   "id": "0800a3f7",
   "metadata": {
    "ExecuteTime": {
     "end_time": "2024-05-22T10:41:34.818773341Z",
     "start_time": "2024-05-22T10:41:31.975297488Z"
    },
    "scrolled": true
   },
   "outputs": [],
   "source": [
    "import matplotlib.pyplot as plt\n",
    "import ML_library        as MLL\n",
    "import numpy             as np\n",
    "import pandas            as pd\n",
    "import torch             as torch\n",
    "import seaborn           as sns\n",
    "import json\n",
    "import os\n",
    "\n",
    "import sys\n",
    "sys.path.append('../../UPC')\n",
    "import MP.MP_library as MPL\n",
    "\n",
    "# Checking if pytorch can run in GPU, else CPU\n",
    "device = torch.device('cuda' if torch.cuda.is_available() else 'cpu')\n",
    "\n",
    "sns.set_theme()"
   ]
  },
  {
   "cell_type": "markdown",
   "id": "af775d4f",
   "metadata": {},
   "source": [
    "Although training ranges from 100 to 700 K, predictions are made from 200 to 600 K in order to avoid the misbehaviour of $C_p$ at high temperature.\n",
    "\n",
    "Ferromagnetic transitions are predicted as any phase transition involving a non-centrosymmmetric space group."
   ]
  },
  {
   "cell_type": "code",
   "execution_count": 2,
   "id": "7bd238bc",
   "metadata": {
    "ExecuteTime": {
     "end_time": "2024-05-22T10:41:34.838047289Z",
     "start_time": "2024-05-22T10:41:34.819058948Z"
    }
   },
   "outputs": [],
   "source": [
    "target = 'Fv-parameters'\n",
    "\n",
    "name = '$F_{v}$ (meV/atom)'\n",
    "\n",
    "input_folder    = 'models'\n",
    "pred_DB         = 'Loaded_PT'\n",
    "path_to_pred_DB = f'../../UPC/MP/{pred_DB}'\n",
    "target_folder   = f'{input_folder}/{target}'\n",
    "model_name      = f'{target_folder}/model.pt'\n",
    "\n",
    "# Whether to plot the harmonic extrapolations of Fv (very time-consuming) or not\n",
    "plot_extrapolations = False\n",
    "\n",
    "# Predefined index for temperatures (in graphs)\n",
    "dropout    = 0.3\n",
    "temp_index = 4\n",
    "\n",
    "dpi = 50\n",
    "\n",
    "# Defining the range of temperatures\n",
    "\n",
    "Ti = 200\n",
    "Tf = 500\n",
    "dT = 50\n",
    "\n",
    "temperatures = np.arange(Ti, Tf+dT, dT)\n",
    "temperatures_plot = np.arange(Ti, Tf+dT, 0.1)\n",
    "\n",
    "# Importing the list of non-centrosymmetric phases\n",
    "\n",
    "non_centrosymmetric_space_groups = np.loadtxt('input/non-centrosymmetric-phases.txt', dtype='str')"
   ]
  },
  {
   "cell_type": "markdown",
   "id": "d6fe246a",
   "metadata": {},
   "source": [
    "# Compute coefficients"
   ]
  },
  {
   "cell_type": "code",
   "execution_count": 3,
   "id": "52297ad9",
   "metadata": {
    "ExecuteTime": {
     "end_time": "2024-05-22T20:54:26.962506676Z",
     "start_time": "2024-05-22T10:41:34.823876616Z"
    }
   },
   "outputs": [
    {
     "ename": "TypeError",
     "evalue": "must be real number, not NoneType",
     "output_type": "error",
     "traceback": [
      "\u001b[0;31m---------------------------------------------------------------------------\u001b[0m",
      "\u001b[0;31mTypeError\u001b[0m                                 Traceback (most recent call last)",
      "Cell \u001b[0;32mIn[3], line 20\u001b[0m\n\u001b[1;32m     17\u001b[0m         dataset_parameters[key] \u001b[38;5;241m=\u001b[39m value\n\u001b[1;32m     19\u001b[0m \u001b[38;5;66;03m# Create dataset for predictions\u001b[39;00m\n\u001b[0;32m---> 20\u001b[0m MP_dataset, MP_labels \u001b[38;5;241m=\u001b[39m \u001b[43mMLL\u001b[49m\u001b[38;5;241;43m.\u001b[39;49m\u001b[43mcreate_predictions_dataset\u001b[49m\u001b[43m(\u001b[49m\u001b[43mpath_to_pred_DB\u001b[49m\u001b[43m)\u001b[49m\n\u001b[1;32m     22\u001b[0m \u001b[38;5;66;03m# Standardize properties\u001b[39;00m\n\u001b[1;32m     23\u001b[0m MP_dataset \u001b[38;5;241m=\u001b[39m MLL\u001b[38;5;241m.\u001b[39mstandarize_dataset(MP_dataset, dataset_parameters, transformation\u001b[38;5;241m=\u001b[39mdataset_parameters[\u001b[38;5;124m'\u001b[39m\u001b[38;5;124mtransformation\u001b[39m\u001b[38;5;124m'\u001b[39m])\n",
      "File \u001b[0;32m~/cibran/Work/UCL/PhaseTransitions/ML_library.py:91\u001b[0m, in \u001b[0;36mcreate_predictions_dataset\u001b[0;34m(path_to_folder, path_to_material, path_to_polymorph)\u001b[0m\n\u001b[1;32m     88\u001b[0m \u001b[38;5;28;01mif\u001b[39;00m os\u001b[38;5;241m.\u001b[39mpath\u001b[38;5;241m.\u001b[39misdir(path_to_polymorf):\n\u001b[1;32m     89\u001b[0m     \u001b[38;5;66;03m# Generate graph\u001b[39;00m\n\u001b[1;32m     90\u001b[0m     \u001b[38;5;28;01mtry\u001b[39;00m:\n\u001b[0;32m---> 91\u001b[0m         data \u001b[38;5;241m=\u001b[39m \u001b[43mgenerate_graph\u001b[49m\u001b[43m(\u001b[49m\u001b[43mpath_to_polymorf\u001b[49m\u001b[43m,\u001b[49m\u001b[43m \u001b[49m\u001b[43mtemperature\u001b[49m\u001b[38;5;241;43m=\u001b[39;49m\u001b[38;5;241;43m0\u001b[39;49m\u001b[43m)\u001b[49m\n\u001b[1;32m     92\u001b[0m     \u001b[38;5;28;01mexcept\u001b[39;00m \u001b[38;5;167;01mValueError\u001b[39;00m:\n\u001b[1;32m     93\u001b[0m         \u001b[38;5;28mprint\u001b[39m(\u001b[38;5;124mf\u001b[39m\u001b[38;5;124m'\u001b[39m\u001b[38;5;124mError: some element is not available for \u001b[39m\u001b[38;5;132;01m{\u001b[39;00mpolymorf\u001b[38;5;132;01m}\u001b[39;00m\u001b[38;5;124m'\u001b[39m)\n",
      "File \u001b[0;32m~/cibran/Work/UCL/PhaseTransitions/ML_library.py:43\u001b[0m, in \u001b[0;36mgenerate_graph\u001b[0;34m(current_path, temperature, encoding_type, distance_thd)\u001b[0m\n\u001b[1;32m     39\u001b[0m \u001b[38;5;66;03m# Read POSCAR information\u001b[39;00m\n\u001b[1;32m     40\u001b[0m structure \u001b[38;5;241m=\u001b[39m Structure\u001b[38;5;241m.\u001b[39mfrom_file(\u001b[38;5;124mf\u001b[39m\u001b[38;5;124m'\u001b[39m\u001b[38;5;132;01m{\u001b[39;00mcurrent_path\u001b[38;5;132;01m}\u001b[39;00m\u001b[38;5;124m/POSCAR\u001b[39m\u001b[38;5;124m'\u001b[39m)\n\u001b[0;32m---> 43\u001b[0m nodes, edges, attributes \u001b[38;5;241m=\u001b[39m \u001b[43mgraph_POSCAR_encoding\u001b[49m\u001b[43m(\u001b[49m\u001b[43mstructure\u001b[49m\u001b[43m,\u001b[49m\n\u001b[1;32m     44\u001b[0m \u001b[43m                                                 \u001b[49m\u001b[43mencoding_type\u001b[49m\u001b[38;5;241;43m=\u001b[39;49m\u001b[43mencoding_type\u001b[49m\u001b[43m,\u001b[49m\n\u001b[1;32m     45\u001b[0m \u001b[43m                                                 \u001b[49m\u001b[43mdistance_threshold\u001b[49m\u001b[38;5;241;43m=\u001b[39;49m\u001b[43mdistance_thd\u001b[49m\n\u001b[1;32m     46\u001b[0m \u001b[43m                                                 \u001b[49m\u001b[43m)\u001b[49m\n\u001b[1;32m     48\u001b[0m \u001b[38;5;66;03m# Compute graph information\u001b[39;00m\n\u001b[1;32m     49\u001b[0m \u001b[38;5;66;03m#nodes, edges, attributes = MPL.graph_POSCAR_encoding(temperature,\u001b[39;00m\n\u001b[1;32m     50\u001b[0m \u001b[38;5;66;03m#                                                    structure,\u001b[39;00m\n\u001b[0;32m   (...)\u001b[0m\n\u001b[1;32m     53\u001b[0m \n\u001b[1;32m     54\u001b[0m \u001b[38;5;66;03m# Generate the graph\u001b[39;00m\n\u001b[1;32m     55\u001b[0m temp \u001b[38;5;241m=\u001b[39m Data(x\u001b[38;5;241m=\u001b[39mnodes,\n\u001b[1;32m     56\u001b[0m             edge_index\u001b[38;5;241m=\u001b[39medges\u001b[38;5;241m.\u001b[39mt()\u001b[38;5;241m.\u001b[39mcontiguous(),\n\u001b[1;32m     57\u001b[0m             edge_attr\u001b[38;5;241m=\u001b[39mattributes\n\u001b[1;32m     58\u001b[0m            )\n",
      "File \u001b[0;32m~/cibran/Work/UCL/PhaseTransitions/../../UPC/GenerativeModels/libraries/graph.py:575\u001b[0m, in \u001b[0;36mgraph_POSCAR_encoding\u001b[0;34m(structure, encoding_type, distance_threshold, periodicity)\u001b[0m\n\u001b[1;32m    572\u001b[0m     sys\u001b[38;5;241m.\u001b[39mexit(\u001b[38;5;124m'\u001b[39m\u001b[38;5;124mError: encoding type not available.\u001b[39m\u001b[38;5;124m'\u001b[39m)\n\u001b[1;32m    574\u001b[0m \u001b[38;5;66;03m# Convert to torch tensors and return\u001b[39;00m\n\u001b[0;32m--> 575\u001b[0m nodes      \u001b[38;5;241m=\u001b[39m \u001b[43mtorch\u001b[49m\u001b[38;5;241;43m.\u001b[39;49m\u001b[43mtensor\u001b[49m\u001b[43m(\u001b[49m\u001b[43mnodes\u001b[49m\u001b[43m,\u001b[49m\u001b[43m      \u001b[49m\u001b[43mdtype\u001b[49m\u001b[38;5;241;43m=\u001b[39;49m\u001b[43mtorch\u001b[49m\u001b[38;5;241;43m.\u001b[39;49m\u001b[43mfloat\u001b[49m\u001b[43m)\u001b[49m\n\u001b[1;32m    576\u001b[0m edges      \u001b[38;5;241m=\u001b[39m torch\u001b[38;5;241m.\u001b[39mtensor(edges,      dtype\u001b[38;5;241m=\u001b[39mtorch\u001b[38;5;241m.\u001b[39mlong)\n\u001b[1;32m    577\u001b[0m attributes \u001b[38;5;241m=\u001b[39m torch\u001b[38;5;241m.\u001b[39mtensor(attributes, dtype\u001b[38;5;241m=\u001b[39mtorch\u001b[38;5;241m.\u001b[39mfloat)\n",
      "\u001b[0;31mTypeError\u001b[0m: must be real number, not NoneType"
     ]
    }
   ],
   "source": [
    "dataset_parameters_name_std = f'{target_folder}/standardized_parameters.json'\n",
    "predictions_file_name       = f'{input_folder}/predictions_phase_transition.txt'\n",
    "\n",
    "if os.path.exists(predictions_file_name):\n",
    "    MP_coefficients = np.loadtxt(predictions_file_name)\n",
    "else:\n",
    "    # Load the data from the JSON file\n",
    "    with open(dataset_parameters_name_std, 'r') as json_file:\n",
    "        numpy_dict = json.load(json_file)\n",
    "\n",
    "    # Convert torch tensors to numpy arrays\n",
    "    dataset_parameters = {}\n",
    "    for key, value in numpy_dict.items():\n",
    "        try:\n",
    "            dataset_parameters[key] = torch.tensor(value)\n",
    "        except:\n",
    "            dataset_parameters[key] = value\n",
    "    \n",
    "    # Create dataset for predictions\n",
    "    MP_dataset, MP_labels = MLL.create_predictions_dataset(path_to_pred_DB)\n",
    "    \n",
    "    # Standardize properties\n",
    "    MP_dataset = MLL.standarize_dataset(MP_dataset, dataset_parameters, transformation=dataset_parameters['transformation'])\n",
    "    \n",
    "    # Initialize the model\n",
    "    model = MPL.GCNN(features_channels=MP_dataset[0].num_node_features,\n",
    "                     pdropout=dropout)\n",
    "    \n",
    "    # Moving model to device\n",
    "    model = model.to(device)\n",
    "    \n",
    "    # Load Graph Neural Network model\n",
    "    model.load_state_dict(torch.load(model_name, map_location=torch.device(device)))\n",
    "    model.eval()\n",
    "\n",
    "    # Compute predictions\n",
    "    MP_coefficients = MLL.make_predictions(MP_dataset, model, dataset_parameters)\n",
    "    \n",
    "    # Compute Fv\n",
    "    #MP_predictions = MLL.compute_Fv(temperatures, MP_coefficients)\n",
    "    \n",
    "    # Saving the predictions\n",
    "    #np.savetxt(predictions_file_name, MP_coefficients)"
   ]
  },
  {
   "cell_type": "markdown",
   "id": "25641cce",
   "metadata": {},
   "source": [
    "# Computing phase transitions"
   ]
  },
  {
   "cell_type": "code",
   "execution_count": null,
   "id": "69d60f9e",
   "metadata": {
    "ExecuteTime": {
     "end_time": "2024-05-22T20:54:27.004060462Z",
     "start_time": "2024-05-22T20:54:27.003551043Z"
    }
   },
   "outputs": [],
   "source": [
    "# Loading dictionary of atomic masses\n",
    "\n",
    "atomic_masses = {}\n",
    "\n",
    "with open('input/atomic_masses.dat', 'r') as atomic_masses_file:\n",
    "    for line in atomic_masses_file:\n",
    "        (key, mass, _, _, _) = line.split()\n",
    "        atomic_masses[key] = mass"
   ]
  },
  {
   "cell_type": "code",
   "execution_count": null,
   "id": "512cd1a773181e0c",
   "metadata": {
    "ExecuteTime": {
     "end_time": "2024-05-24T13:59:17.137912151Z",
     "start_time": "2024-05-24T13:58:55.897782565Z"
    },
    "collapsed": false,
    "jupyter": {
     "outputs_hidden": false
    }
   },
   "outputs": [],
   "source": [
    "stable_file_name   = f'stable_transition_phases.txt'\n",
    "unstable_file_name = f'unstable_transition_phases.txt'\n",
    "\n",
    "#if os.path.exists(stable_file_name) and os.path.exists(unstable_file_name):\n",
    "if False:\n",
    "    stable_transition_phases   = np.loadtxt(stable_file_name,   dtype=str)\n",
    "    unstable_transition_phases = np.loadtxt(unstable_file_name, dtype=str)\n",
    "else:\n",
    "    # Ordering by families\n",
    "    indexes      = np.argsort(MP_labels)\n",
    "    labels       = np.array(MP_labels)[indexes]\n",
    "    coefficients = MP_coefficients[:, indexes]\n",
    "    metrics      = np.array(MP_metrics)[indexes]\n",
    "\n",
    "    # Separating compounds and polymorphes\n",
    "    compounds = []\n",
    "    polymorfs = []\n",
    "    for line in labels:\n",
    "        # Splitting compound from polymorphes names\n",
    "        split_line = line.split()\n",
    "\n",
    "        # Appending that names in their respective lists\n",
    "        compounds.append(split_line[0])\n",
    "        polymorfs.append(split_line[1])\n",
    "\n",
    "    # Loading ground state energies\n",
    "\n",
    "    gs_energies = []\n",
    "    for i in range(len(polymorfs)):\n",
    "        compound = compounds[i]\n",
    "        polymorf = polymorfs[i]\n",
    "\n",
    "        EPA_folder = f'{path_to_pred_DB}/{compound}/{polymorf}'\n",
    "        temp_energy = float(np.loadtxt(f'{EPA_folder}/EPA')) * 1e3  # From eV/atom to meV/atom\n",
    "        gs_energies.append(temp_energy)\n",
    "\n",
    "    # Unique compounds (not considering polymorphes)\n",
    "    unique_compounds, unique_counts = np.unique(compounds, return_counts=True)\n",
    "    unique_indexes = np.append([0], np.cumsum(unique_counts))  # So it starts with 0\n",
    "\n",
    "    # Initializing files with data\n",
    "    stable_transition_phases   = []\n",
    "    unstable_transition_phases = []\n",
    "    for i in range(len(unique_compounds)):\n",
    "        compound = unique_compounds[i]\n",
    "\n",
    "        # Getting corresponding predictions\n",
    "        index1 = unique_indexes[i]\n",
    "        index2 = unique_indexes[i+1]\n",
    "\n",
    "        static_energies          = gs_energies[index1:index2]\n",
    "        vibrational_coefficients = coefficients[:, index1:index2]\n",
    "        vibrational_metrics      = metrics[index1:index2]\n",
    "\n",
    "        n_polymorfs = index2 - index1\n",
    "        if n_polymorfs > 1:\n",
    "            print(compound)\n",
    "            if plot_extrapolations:\n",
    "                fig = plt.figure(figsize=(5, 5))\n",
    "            \n",
    "            free_energies = np.zeros((n_polymorfs, len(temperatures)))\n",
    "            for k in range(n_polymorfs):\n",
    "                _beta_             = vibrational_coefficients[:, k]\n",
    "                vibrational_energy = MPL.Helmholtz_free_energy_function(temperatures, *_beta_)\n",
    "                free_energies[k]   = static_energies[k] + vibrational_energy  # F(T) = E0 + F_v(T)\n",
    "            \n",
    "            for k in range(n_polymorfs):\n",
    "                _beta_1          = vibrational_coefficients[:, k]\n",
    "                fitting_metric_1 = vibrational_metrics[k]\n",
    "                static_energy_1  = static_energies[k]\n",
    "                free_energies_1  = free_energies[k]\n",
    "                polymorf_1       = polymorfs[index1+k]\n",
    "\n",
    "                # Determine the centrosymmetry of the phase\n",
    "                non_centrosymmetric_1 = True if polymorf_1 in non_centrosymmetric_space_groups else False\n",
    "                \n",
    "                # Plotting\n",
    "                if plot_extrapolations:\n",
    "                    # Smooth Gibbs energy for plotting\n",
    "                    gibbs_energy_plot = static_energy_1 + MPL.Helmholtz_free_energy_function(temperatures_plot,\n",
    "                                                                                             *_beta_1)\n",
    "                    plt.plot(temperatures_plot, gibbs_energy_plot, label=polymorf_1)\n",
    "\n",
    "                # Looking for phase transitions\n",
    "                for m in np.arange(k+1, n_polymorfs):\n",
    "                    _beta_2          = vibrational_coefficients[:, m]\n",
    "                    fitting_metric_2 = vibrational_metrics[m]\n",
    "                    static_energy_2  = static_energies[m]\n",
    "                    free_energies_2  = free_energies[m]\n",
    "                    polymorf_2       = polymorfs[index1+m]\n",
    "                    \n",
    "                    # Computing the entropy change provoked by the transition. Parameters were previously scaled\n",
    "                    d_E0    = static_energy_2 - static_energy_1\n",
    "                    d_alpha = (_beta_2[0] - _beta_1[0])\n",
    "                    d_beta  = (_beta_2[1] - _beta_1[1]) * 1e-5\n",
    "                    d_gamma = (_beta_2[2] - _beta_1[2]) * 1e-10\n",
    "\n",
    "                    temp_root_1 = (- d_beta + np.sqrt(d_beta**2 - 4 * (d_E0 + d_alpha) * d_gamma)) / (2 * d_gamma)\n",
    "                    temp_root_2 = (- d_beta - np.sqrt(d_beta**2 - 4 * (d_E0 + d_alpha) * d_gamma)) / (2 * d_gamma)\n",
    "\n",
    "                    c_temperatures = [np.sqrt(temp_root_1), np.sqrt(temp_root_2)]\n",
    "\n",
    "                    # Remove those temperature out of the temperature range of interest\n",
    "                    c_valid_temperatures = [x for x in c_temperatures if (x > Ti and x < Tf)]\n",
    "\n",
    "                    # Determine if there is any transition within the temperature interval\n",
    "                    if not len(c_valid_temperatures):  # There is not a transition between these polymorfs\n",
    "                        continue\n",
    "                    elif len(c_valid_temperatures) > 1:\n",
    "                        print(f'Warning: {len(c_valid_temperatures)} transitions within this interval')\n",
    "\n",
    "                    # Get the expected critical temperature and free energy\n",
    "                    c_temperature = np.min(c_valid_temperatures)\n",
    "                    c_free_energy = static_energy_1 + MPL.Helmholtz_free_energy_function(c_temperature, *_beta_1)\n",
    "                    d_slope       = c_temperature * np.abs(2 * d_beta + 4 * d_gamma * c_temperature**2)\n",
    "                    \n",
    "                    # Read atomic information for entropy change estimation\n",
    "                    with open(f'{path_to_pred_DB}/{compound}/{polymorf_1}/POSCAR', 'r') as POSCAR_file:\n",
    "                        POSCAR_lines = POSCAR_file.readlines()\n",
    "                    composition   = POSCAR_lines[5].split()\n",
    "                    concentration = np.array(POSCAR_lines[6].split(), dtype=float)\n",
    "                    \n",
    "                    # Get atomic mass involved in the transition\n",
    "                    total_mass = 0\n",
    "                    for idx in range(len(composition)):\n",
    "                        total_mass += float(atomic_masses[composition[idx]]) * concentration[idx]\n",
    "                    \n",
    "                    # From meV/atomK to J/kgK (1e3 as g goes to kg)\n",
    "                    c_entropy = d_slope * 6.022 * 1.6 * 1e4 * np.sum(concentration) / total_mass\n",
    "                    \n",
    "                    # Check which has lower energy at lower temperature\n",
    "                    c_free_energy_1 = static_energy_1 + MPL.Helmholtz_free_energy_function(c_temperature-5,\n",
    "                                                                                           *_beta_1)\n",
    "                    c_free_energy_2 = static_energy_2 + MPL.Helmholtz_free_energy_function(c_temperature-5,\n",
    "                                                                                           *_beta_2)\n",
    "\n",
    "                    first_polymorf = polymorf_1\n",
    "                    last_polymorf  = polymorf_2\n",
    "                    if c_free_energy_1 > c_free_energy_2:\n",
    "                        first_polymorf = polymorf_2\n",
    "                        last_polymorf  = polymorf_1\n",
    "\n",
    "                    label = f'{first_polymorf} -> {last_polymorf} ({c_temperature:.2f}K, {c_entropy:.2f} J/kgK)'\n",
    "\n",
    "                    if plot_extrapolations:\n",
    "                        if len(c_valid_temperatures):\n",
    "                            plt.plot(c_temperature, c_free_energy, 'o', label=label)\n",
    "                    \n",
    "                    # Determine the centrosymmetry of the phase\n",
    "                    non_centrosymmetric_2 = True if polymorf_2 in non_centrosymmetric_space_groups else False\n",
    "\n",
    "                    # 0: None are centrosymmetric\n",
    "                    # 1: One is centrosymmetric\n",
    "                    # 2: Both are centrosymmetric\n",
    "                    non_centrosymmetric = non_centrosymmetric_1 + non_centrosymmetric_2\n",
    "\n",
    "                    # Appending information (compound name, involved phases in order,\n",
    "                    # temperature of transition, entropy change involved in the transition,\n",
    "                    # whether a non-centrosymmetric phase is involved or not)\n",
    "                    \n",
    "                    # Compound and involved polymorfs, temperature of the transition, entropy change involved,\n",
    "                    # centrosymmetry and sloped change involved (presumably, higher slope higher probability of\n",
    "                    # correct prediction)\n",
    "                    transition_data = [compound,\n",
    "                                       first_polymorf, last_polymorf,\n",
    "                                       c_temperature,\n",
    "                                       c_entropy,\n",
    "                                       non_centrosymmetric,\n",
    "                                       d_slope,\n",
    "                                       fitting_metric_1,\n",
    "                                       fitting_metric_2]\n",
    "                    print(transition_data)\n",
    "\n",
    "                    min_vib_energy = np.inf\n",
    "                    for j in range(n_polymorfs):\n",
    "                        static_energy = static_energies[j]\n",
    "                        vibrational_energy = MPL.Helmholtz_free_energy_function(c_temperature, *vibrational_coefficients[:, j])\n",
    "                        vib_energy = static_energy + vibrational_energy\n",
    "                        if vib_energy < min_vib_energy:\n",
    "                            min_vib_energy = vib_energy\n",
    "                    \n",
    "                    if np.isclose(c_free_energy, min_vib_energy):\n",
    "                        stable_transition_phases.append(transition_data)\n",
    "                    else:\n",
    "                        unstable_transition_phases.append(transition_data)\n",
    "\n",
    "            if plot_extrapolations:\n",
    "                #if len(c_valid_temperatures):\n",
    "                plt.title(compound)\n",
    "                plt.xlabel('$T$ (K)')\n",
    "                plt.ylabel(f'$F$ (meV/atom)')\n",
    "                plt.legend(loc=(1.05, 0.5))\n",
    "                plt.savefig(f'out/{compound}.eps', dpi=50, bbox_inches='tight')\n",
    "                plt.show()\n",
    "\n",
    "    #np.savetxt(stable_file_name,   stable_transition_phases,   fmt='%s')\n",
    "    #np.savetxt(unstable_file_name, unstable_transition_phases, fmt='%s')"
   ]
  },
  {
   "cell_type": "markdown",
   "id": "3fe12996",
   "metadata": {},
   "source": [
    "# Visualizing the results"
   ]
  },
  {
   "cell_type": "code",
   "execution_count": null,
   "id": "865b75cf",
   "metadata": {
    "ExecuteTime": {
     "end_time": "2024-05-24T13:59:27.384725739Z",
     "start_time": "2024-05-24T13:59:27.359454905Z"
    }
   },
   "outputs": [],
   "source": [
    "stable_transition_phases = np.array(stable_transition_phases)\n",
    "\n",
    "stable_critical_temperatures = np.array(stable_transition_phases[:,  3], dtype=float)\n",
    "stable_entropy_changes       = np.array(stable_transition_phases[:,  4], dtype=float)\n",
    "stable_non_centrosymmetry    = np.array(stable_transition_phases[:,  5], dtype=float)\n",
    "stable_slope_changes         = np.array(stable_transition_phases[:,  6], dtype=float)\n",
    "#stable_fitting_metrics       = np.array(stable_transition_phases[:,  7], dtype=float)\n",
    "\n",
    "unstable_transition_phases = np.array(unstable_transition_phases)\n",
    "\n",
    "unstable_critical_temperatures = np.array(unstable_transition_phases[:,  3], dtype=float)\n",
    "unstable_entropy_changes       = np.array(unstable_transition_phases[:,  4], dtype=float)\n",
    "unstable_non_centrosymmetry    = np.array(unstable_transition_phases[:,  5], dtype=float)\n",
    "unstable_slope_changes         = np.array(unstable_transition_phases[:,  6], dtype=float)\n",
    "#unstable_fitting_metrics       = np.array(unstable_transition_phases[:,  7], dtype=float)"
   ]
  },
  {
   "cell_type": "markdown",
   "id": "195d5836",
   "metadata": {},
   "source": [
    "## First N stable materials highest entropy changes"
   ]
  },
  {
   "cell_type": "code",
   "execution_count": null,
   "id": "4c34a17b-6404-4b19-a169-b710e11a9e83",
   "metadata": {
    "ExecuteTime": {
     "end_time": "2024-05-24T14:02:00.951144017Z",
     "start_time": "2024-05-24T14:02:00.764079935Z"
    },
    "scrolled": true
   },
   "outputs": [],
   "source": [
    "# [::-1] sorts it from higher to lower\n",
    "entropy_sorted_stp = stable_transition_phases[stable_entropy_changes.argsort()[::-1]]\n",
    "\n",
    "# Remove excessively low slope changes\n",
    "#entropy_sorted_stp = entropy_sorted_stp[np.array(entropy_sorted_stp[:,  6], dtype=float) > 0.2]\n",
    "\n",
    "# Convert into dataframe and save to excel\n",
    "columns   = ['Material', 'Phase 1', 'Phase 2', 'T (K)', 'S (J/kgK)', 'Centrosymmetry', 'Slope', 'Fitting-metric-1', 'Fitting-metric-2']\n",
    "df_es_stp = pd.DataFrame(entropy_sorted_stp, columns=columns)\n",
    "df_es_stp.to_excel('High-entropy stable transitions.xlsx')\n",
    "df_es_stp"
   ]
  },
  {
   "cell_type": "markdown",
   "id": "d93957d3",
   "metadata": {},
   "source": [
    "## Amount of phase transitions at each temperature interval"
   ]
  },
  {
   "cell_type": "code",
   "execution_count": null,
   "id": "ffaf6365-5ac9-45b2-b3c0-56a4a8cd8bf7",
   "metadata": {
    "ExecuteTime": {
     "end_time": "2024-04-30T05:16:28.040481871Z",
     "start_time": "2024-04-30T05:16:27.636671244Z"
    }
   },
   "outputs": [],
   "source": [
    "plt.hist(unstable_critical_temperatures, alpha=0.4, label='Metastable')\n",
    "plt.hist(stable_critical_temperatures,   alpha=0.4, label='Stable')\n",
    "plt.legend(loc='best')\n",
    "plt.xlabel('T (K)')\n",
    "plt.ylabel(r'$N_{PT}$')\n",
    "plt.savefig(f'{input_folder}/Histogram_critical_temperatures.eps', dpi=dpi, bbox_inches='tight')\n",
    "plt.show()"
   ]
  },
  {
   "cell_type": "markdown",
   "id": "08df2eae",
   "metadata": {},
   "source": [
    "## Amount of phase transitions involving some entropy change"
   ]
  },
  {
   "cell_type": "code",
   "execution_count": null,
   "id": "de1f8aef-2e3c-4cbc-bd08-d9e720a833f3",
   "metadata": {
    "ExecuteTime": {
     "end_time": "2024-04-30T05:16:28.611763928Z",
     "start_time": "2024-04-30T05:16:28.043568232Z"
    }
   },
   "outputs": [],
   "source": [
    "plt.hist(unstable_entropy_changes, bins=100, alpha=0.4, label='Metastable')\n",
    "plt.hist(stable_entropy_changes,   bins=100, alpha=0.4, label='Stable')\n",
    "\n",
    "plt.legend(loc='best')\n",
    "plt.xlim(0, 1000)\n",
    "plt.xlabel(r'$\\Delta S$ (J / kg K)')\n",
    "plt.ylabel(r'$N_{PT}$')\n",
    "plt.savefig(f'{input_folder}/Histogram_entropy_changes.eps', dpi=dpi, bbox_inches='tight')\n",
    "plt.show()"
   ]
  },
  {
   "cell_type": "markdown",
   "id": "9e2e5610",
   "metadata": {},
   "source": [
    "## Amount of phase transitions in terms of centrosymmetry"
   ]
  },
  {
   "cell_type": "code",
   "execution_count": null,
   "id": "040828a1",
   "metadata": {
    "ExecuteTime": {
     "end_time": "2024-04-30T05:16:28.812257082Z",
     "start_time": "2024-04-30T05:16:28.622476592Z"
    }
   },
   "outputs": [],
   "source": [
    "# Swith to type of transition\n",
    "plt_unstable_non_centrosymmetry = np.array(unstable_non_centrosymmetry, dtype=object)\n",
    "plt_stable_non_centrosymmetry   = np.array(stable_non_centrosymmetry,   dtype=object)\n",
    "\n",
    "centrosymmetries = np.array(['Para-para', 'Ferro-para', 'Ferro-Ferro'])\n",
    "\n",
    "for i in range(len(centrosymmetries)):\n",
    "    plt_unstable_non_centrosymmetry[np.where(unstable_non_centrosymmetry == i)[0]] = centrosymmetries[i]\n",
    "    plt_stable_non_centrosymmetry[np.where(stable_non_centrosymmetry     == i)[0]] = centrosymmetries[i]\n",
    "\n",
    "# Create the histogram\n",
    "plt.hist(plt_unstable_non_centrosymmetry, alpha=0.4, label='Metastable', align='left')\n",
    "plt.hist(plt_stable_non_centrosymmetry,   alpha=0.4, label='Stable', align='left')\n",
    "plt.ylabel(r'$N_{PT}$')\n",
    "plt.legend(loc='best')\n",
    "plt.savefig(f'{input_folder}/Histogram_centrosymmetry.eps', dpi=dpi, bbox_inches='tight')\n",
    "plt.show()"
   ]
  },
  {
   "cell_type": "markdown",
   "id": "ff397b6d",
   "metadata": {},
   "source": [
    "## Amount of phase transitions at each temperature and entropy change"
   ]
  },
  {
   "cell_type": "code",
   "execution_count": null,
   "id": "abe6c933",
   "metadata": {
    "ExecuteTime": {
     "end_time": "2024-04-30T05:16:29.017872844Z",
     "start_time": "2024-04-30T05:16:28.814713177Z"
    }
   },
   "outputs": [],
   "source": [
    "x_edges = temperatures\n",
    "y_edges = np.linspace(0, 500, 10)\n",
    "\n",
    "distribution = np.histogram2d(stable_critical_temperatures, stable_entropy_changes,\n",
    "                              bins=(list(x_edges), list(y_edges))\n",
    "                             )[0].T\n",
    "\n",
    "X, Y = np.meshgrid(x_edges, y_edges)\n",
    "plt.pcolormesh(X, Y, distribution, shading='auto', cmap='viridis')\n",
    "plt.xlabel('T (K)')\n",
    "plt.ylabel(r'$\\Delta S$ (J / kg K)')\n",
    "plt.savefig(f'{input_folder}/Temperature_vs_stable_entropy_changes.eps', dpi=dpi, bbox_inches='tight')\n",
    "plt.show()"
   ]
  },
  {
   "cell_type": "code",
   "execution_count": null,
   "id": "dc135b25",
   "metadata": {
    "ExecuteTime": {
     "end_time": "2024-04-30T05:16:29.247425952Z",
     "start_time": "2024-04-30T05:16:29.020786731Z"
    }
   },
   "outputs": [],
   "source": [
    "x_edges = temperatures\n",
    "y_edges = np.linspace(0, 500, 10)\n",
    "\n",
    "distribution = np.histogram2d(unstable_critical_temperatures, unstable_entropy_changes,\n",
    "                              bins=(list(x_edges), list(y_edges))\n",
    "                             )[0].T\n",
    "\n",
    "X, Y = np.meshgrid(x_edges, y_edges)\n",
    "plt.pcolormesh(X, Y, distribution, shading='auto', cmap='viridis')\n",
    "plt.xlabel('T (K)')\n",
    "plt.ylabel(r'$\\Delta S$ (J / kg K)')\n",
    "plt.savefig(f'{input_folder}/Temperature_vs_unstable_stable_entropy_changes.eps', dpi=dpi, bbox_inches='tight')\n",
    "plt.show()"
   ]
  },
  {
   "cell_type": "markdown",
   "id": "67fced23",
   "metadata": {},
   "source": [
    "## Amount of phase transitions at each temperature and centrosymmetries"
   ]
  },
  {
   "cell_type": "code",
   "execution_count": null,
   "id": "3e5ff85f-0411-4f18-9ed9-5c4ed9459c10",
   "metadata": {
    "ExecuteTime": {
     "end_time": "2024-04-30T05:16:29.256464532Z",
     "start_time": "2024-04-30T05:16:29.249972678Z"
    }
   },
   "outputs": [],
   "source": [
    "# Create a mapping of strings to unique integers\n",
    "centrosymmetries_dict = {'Para-para':   0,\n",
    "                         'Ferro-para':  1,\n",
    "                         'Ferro-Ferro': 2}\n",
    "centrosymmetry_edges = [0, 0.66, 1.33, 2]\n",
    "centrosymmetry_ticks_x = [0.33, 1, 1.66]\n",
    "centrosymmetry_ticks_labels = ['Para-para', 'Ferro-para', 'Ferro-Ferro']"
   ]
  },
  {
   "cell_type": "code",
   "execution_count": null,
   "id": "eb3d1952",
   "metadata": {
    "ExecuteTime": {
     "end_time": "2024-04-30T05:16:29.453965843Z",
     "start_time": "2024-04-30T05:16:29.261987593Z"
    }
   },
   "outputs": [],
   "source": [
    "x_edges = temperatures\n",
    "y_edges = centrosymmetry_edges\n",
    "\n",
    "# Convert strings to corresponding integers\n",
    "plt_stable_non_centrosymmetry_as_int = np.array([centrosymmetries_dict[string] for string in plt_stable_non_centrosymmetry])\n",
    "\n",
    "distribution = np.histogram2d(stable_critical_temperatures, plt_stable_non_centrosymmetry_as_int,\n",
    "                              bins=(list(x_edges), list(y_edges))\n",
    "                             )[0].T\n",
    "\n",
    "X, Y = np.meshgrid(x_edges, y_edges)\n",
    "plt.pcolormesh(X, Y, distribution, shading='auto', cmap='viridis')\n",
    "plt.yticks(centrosymmetry_ticks_x,\n",
    "           centrosymmetry_ticks_labels)\n",
    "plt.xlabel('T (K)')\n",
    "plt.savefig(f'{input_folder}/Temperature_vs_stable_centrosymmetry.eps', dpi=dpi, bbox_inches='tight')\n",
    "plt.show()"
   ]
  },
  {
   "cell_type": "code",
   "execution_count": null,
   "id": "dcbe8a6a",
   "metadata": {
    "ExecuteTime": {
     "end_time": "2024-04-30T05:16:29.652285064Z",
     "start_time": "2024-04-30T05:16:29.463947199Z"
    }
   },
   "outputs": [],
   "source": [
    "x_edges = temperatures\n",
    "y_edges = centrosymmetry_edges\n",
    "\n",
    "# Convert strings to corresponding integers\n",
    "plt_unstable_non_centrosymmetry_as_int = np.array([centrosymmetries_dict[string] for string in plt_unstable_non_centrosymmetry])\n",
    "\n",
    "distribution = np.histogram2d(unstable_critical_temperatures, plt_unstable_non_centrosymmetry_as_int,\n",
    "                              bins=(list(x_edges), list(y_edges))\n",
    "                             )[0].T\n",
    "\n",
    "X, Y = np.meshgrid(x_edges, y_edges)\n",
    "plt.pcolormesh(X, Y, distribution, shading='auto', cmap='viridis')\n",
    "plt.yticks(centrosymmetry_ticks_x,\n",
    "           centrosymmetry_ticks_labels)\n",
    "plt.xlabel('T (K)')\n",
    "plt.savefig(f'{input_folder}/Temperature_vs_unstable_centrosymmetry.eps', dpi=dpi, bbox_inches='tight')\n",
    "plt.show()"
   ]
  },
  {
   "cell_type": "markdown",
   "id": "294fa874",
   "metadata": {},
   "source": [
    "## Amount of phase transitions with centrosymmetries and entropy change"
   ]
  },
  {
   "cell_type": "code",
   "execution_count": null,
   "id": "e3e7a92f",
   "metadata": {
    "ExecuteTime": {
     "end_time": "2024-04-30T05:16:29.791981650Z",
     "start_time": "2024-04-30T05:16:29.654100182Z"
    }
   },
   "outputs": [],
   "source": [
    "x_edges = centrosymmetry_edges\n",
    "y_edges = np.linspace(0, 500, 10)\n",
    "\n",
    "distribution = np.histogram2d(plt_stable_non_centrosymmetry_as_int, stable_entropy_changes,\n",
    "                              bins=(list(x_edges), list(y_edges))\n",
    "                             )[0].T\n",
    "\n",
    "X, Y = np.meshgrid(x_edges, y_edges)\n",
    "plt.pcolormesh(X, Y, distribution, shading='auto', cmap='viridis')\n",
    "plt.xticks(centrosymmetry_ticks_x,\n",
    "           centrosymmetry_ticks_labels)\n",
    "plt.ylabel(r'$\\Delta S$ (J / kg K)')\n",
    "plt.savefig(f'{input_folder}/Entropy_changes_vs_stable_centrosymmetry.eps', dpi=dpi, bbox_inches='tight')\n",
    "plt.show()"
   ]
  },
  {
   "cell_type": "code",
   "execution_count": null,
   "id": "d13caa9e",
   "metadata": {
    "ExecuteTime": {
     "end_time": "2024-04-30T05:16:29.904587802Z",
     "start_time": "2024-04-30T05:16:29.792289580Z"
    }
   },
   "outputs": [],
   "source": [
    "x_edges = centrosymmetry_edges\n",
    "y_edges = np.linspace(0, 500, 10)\n",
    "\n",
    "distribution = np.histogram2d(plt_unstable_non_centrosymmetry_as_int, unstable_entropy_changes,\n",
    "                              bins=(list(x_edges), list(y_edges))\n",
    "                             )[0].T\n",
    "\n",
    "X, Y = np.meshgrid(x_edges, y_edges)\n",
    "plt.pcolormesh(X, Y, distribution, shading='auto', cmap='viridis')\n",
    "plt.xticks(centrosymmetry_ticks_x,\n",
    "           centrosymmetry_ticks_labels)\n",
    "plt.ylabel(r'$\\Delta S$ (J / kg K)')\n",
    "plt.savefig(f'{input_folder}/Entropy_changes_vs_unstable_centrosymmetry.eps', dpi=dpi, bbox_inches='tight')\n",
    "plt.show()"
   ]
  }
 ],
 "metadata": {
  "kernelspec": {
   "display_name": "Python 3 (ipykernel)",
   "language": "python",
   "name": "python3"
  },
  "language_info": {
   "codemirror_mode": {
    "name": "ipython",
    "version": 3
   },
   "file_extension": ".py",
   "mimetype": "text/x-python",
   "name": "python",
   "nbconvert_exporter": "python",
   "pygments_lexer": "ipython3",
   "version": "3.10.12"
  }
 },
 "nbformat": 4,
 "nbformat_minor": 5
}
